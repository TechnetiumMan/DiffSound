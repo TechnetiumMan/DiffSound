{
 "cells": [
  {
   "cell_type": "code",
   "execution_count": 3,
   "metadata": {},
   "outputs": [
    {
     "name": "stdout",
     "output_type": "stream",
     "text": [
      "/home\n",
      "(3085, 3) (6166, 3) (6166, 16)\n"
     ]
    },
    {
     "data": {
      "application/vnd.jupyter.widget-view+json": {
       "model_id": "510d6f925e5d4f1d8782303a3a428256",
       "version_major": 2,
       "version_minor": 0
      },
      "text/plain": [
       "Box(children=(Box(children=(IntSlider(value=0, description='Mode Index', layout=Layout(flex='3 1 auto'), max=1…"
      ]
     },
     "metadata": {},
     "output_type": "display_data"
    }
   ],
   "source": [
    "import sys\n",
    "%cd ../\n",
    "import meshio\n",
    "import scipy.spatial as spatial\n",
    "from src.visualize import viewer\n",
    "import numpy as np\n",
    "import torch\n",
    "\n",
    "log_dir = '/home/jxt/High-Order-DiffFEM/runs/2_May20_15-38-03'\n",
    "surf_veticies = np.load(log_dir + '/surf_veticies.npy')\n",
    "surf_triangles = np.load(log_dir + '/surf_triangles.npy')\n",
    "U_tris = np.load(log_dir + '/U_tris.npy')\n",
    "print(surf_veticies.shape, surf_triangles.shape, U_tris.shape)\n",
    "viewer(surf_veticies, surf_triangles, U_tris.T, intensitymode='cell').show()\n"
   ]
  },
  {
   "cell_type": "code",
   "execution_count": 13,
   "metadata": {},
   "outputs": [
    {
     "name": "stdout",
     "output_type": "stream",
     "text": [
      "torch.Size([6166, 16]) torch.Size([1, 16])\n",
      "(1, 6166)\n"
     ]
    },
    {
     "name": "stderr",
     "output_type": "stream",
     "text": [
      "/tmp/ipykernel_136782/3473746102.py:8: UserWarning:\n",
      "\n",
      "To copy construct from a tensor, it is recommended to use sourceTensor.clone().detach() or sourceTensor.clone().detach().requires_grad_(True), rather than torch.tensor(sourceTensor).\n",
      "\n"
     ]
    },
    {
     "data": {
      "application/vnd.jupyter.widget-view+json": {
       "model_id": "a80e8d493cfc4b69ba16871b1170026b",
       "version_major": 2,
       "version_minor": 0
      },
      "text/plain": [
       "Box(children=(Box(children=(IntSlider(value=0, description='Mode Index', layout=Layout(flex='3 1 auto'), max=0…"
      ]
     },
     "metadata": {},
     "output_type": "display_data"
    }
   ],
   "source": [
    "mic_pressure = np.load(log_dir + '/mic_pressure.npy')\n",
    "omega = np.load(log_dir + '/omega.npy')\n",
    "p = mic_pressure / omega\n",
    "audio_idx = 15\n",
    "amp = np.load(log_dir + '/amp_{}.npy'.format(audio_idx))\n",
    "f = amp / p\n",
    "f = torch.tensor(f).reshape(1, -1).cuda()\n",
    "U_tris = torch.tensor(U_tris).cuda()\n",
    "print(U_tris.shape, f.shape)\n",
    "similarity = torch.nn.functional.cosine_similarity(U_tris, f).reshape(1, -1).detach().cpu().numpy()\n",
    "similarity = np.abs(similarity)\n",
    "print(similarity.shape)\n",
    "viewer(surf_veticies, surf_triangles, similarity, intensitymode='cell').show()\n",
    "np.save(log_dir + '/similarity{}.npy'.format(audio_idx), similarity)"
   ]
  }
 ],
 "metadata": {
  "kernelspec": {
   "display_name": "DiffFEM",
   "language": "python",
   "name": "python3"
  },
  "language_info": {
   "codemirror_mode": {
    "name": "ipython",
    "version": 3
   },
   "file_extension": ".py",
   "mimetype": "text/x-python",
   "name": "python",
   "nbconvert_exporter": "python",
   "pygments_lexer": "ipython3",
   "version": "3.11.3"
  },
  "orig_nbformat": 4
 },
 "nbformat": 4,
 "nbformat_minor": 2
}
