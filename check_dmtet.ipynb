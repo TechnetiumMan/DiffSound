{
 "cells": [
  {
   "cell_type": "code",
   "execution_count": 6,
   "metadata": {},
   "outputs": [
    {
     "name": "stdout",
     "output_type": "stream",
     "text": [
      "\n",
      "Load tetramesh with  8752  vertices &  33005  tets\n"
     ]
    },
    {
     "data": {
      "application/vnd.jupyter.widget-view+json": {
       "model_id": "9463477b25e04a2391a4b9ef8c7d3dd2",
       "version_major": 2,
       "version_minor": 0
      },
      "text/plain": [
       "Box(children=(Box(children=(FigureWidget({\n",
       "    'data': [{'i': array([   0,    0,    0, ..., 2341, 2351, 2359])…"
      ]
     },
     "metadata": {},
     "output_type": "display_data"
    }
   ],
   "source": [
    "import sys\n",
    "sys.path.append('./')\n",
    "import torch\n",
    "import numpy as np\n",
    "# from src.dmtet.dmtet import DMTetGeometry\n",
    "# from src.diffelastic.mesh import TetMesh\n",
    "# from src.diffelastic.deform import Deform\n",
    "from src.utils.visualize import viewer\n",
    "import meshio\n",
    "\n",
    "# res = 3\n",
    "# num_iter = 1000\n",
    "# DMTet = DMTetGeometry(res=res, iter=num_iter)\n",
    "# verts, tets = DMTet.getMesh()\n",
    "# tet_mesh = TetMesh(verts, tets) \n",
    "# viewer(verts.cpu().detach(), tets.cpu().detach(), draw_tet=True).show()\n",
    "\n",
    "# 这里假设gt audio是全为0的声音\n",
    "# gt_audio = torch.zeros((1, 1000)).cuda()\n",
    "# loss_func = torch.nn.MSELoss()\n",
    "\n",
    "# optimizer = torch.optim.Adam(DMTet.parameters(), lr=0.03)\n",
    "\n",
    "# for i in range(100):\n",
    "#     audio_loss, reg_loss = DMTet.tick(gt_audio, loss_func, i)\n",
    "#     print(\"iter:{}, audio_loss: {}, reg_loss: {}\".format(i, audio_loss, reg_loss))\n",
    "\n",
    "#     total_loss = audio_loss + reg_loss\n",
    "#     optimizer.zero_grad()\n",
    "#     total_loss.backward()\n",
    "#     optimizer.step()\n",
    "\n",
    "# verts, tets = DMTet.getMesh()\n",
    "\n",
    "# verts, tets = torch.load(\"out/sphere_sdf_nerf/dmtet_base.msh\")\n",
    "\n",
    "mesh = meshio.read(\"out/frog_thickness/mesh/frog0.3_voxel.msh\")\n",
    "verts = torch.Tensor(mesh.points).cuda()\n",
    "tets = torch.Tensor(mesh.cells[0].data).long().cuda()\n",
    "print('Load tetramesh with ', len(verts),\n",
    "        ' vertices & ', len(tets), ' tets')\n",
    "\n",
    "viewer(verts.cpu().detach(), tets.cpu().detach(), draw_tet=True).show()\n"
   ]
  }
 ],
 "metadata": {
  "kernelspec": {
   "display_name": "xcx",
   "language": "python",
   "name": "python3"
  },
  "language_info": {
   "codemirror_mode": {
    "name": "ipython",
    "version": 3
   },
   "file_extension": ".py",
   "mimetype": "text/x-python",
   "name": "python",
   "nbconvert_exporter": "python",
   "pygments_lexer": "ipython3",
   "version": "3.8.18"
  },
  "orig_nbformat": 4
 },
 "nbformat": 4,
 "nbformat_minor": 2
}
