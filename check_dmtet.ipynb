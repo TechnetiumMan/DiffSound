{
 "cells": [
  {
   "cell_type": "code",
   "execution_count": null,
   "metadata": {},
   "outputs": [],
   "source": [
    "import sys\n",
    "sys.path.append('./')\n",
    "import torch\n",
    "import numpy as np\n",
    "from src.dmtet.dmtet import DMTetGeometry\n",
    "from src.diffelastic.mesh import TetMesh\n",
    "from src.diffelastic.deform import Deform\n",
    "from src.visualize import viewer\n",
    "\n",
    "res = 3\n",
    "num_iter = 1000\n",
    "DMTet = DMTetGeometry(res=res, iter=num_iter)\n",
    "verts, tets = DMTet.getMesh()\n",
    "tet_mesh = TetMesh(verts, tets) \n",
    "# viewer(verts.cpu().detach(), tets.cpu().detach(), draw_tet=True).show()\n",
    "\n",
    "# 这里假设gt audio是全为0的声音\n",
    "# gt_audio = torch.zeros((1, 1000)).cuda()\n",
    "# loss_func = torch.nn.MSELoss()\n",
    "\n",
    "# optimizer = torch.optim.Adam(DMTet.parameters(), lr=0.03)\n",
    "\n",
    "# for i in range(100):\n",
    "#     audio_loss, reg_loss = DMTet.tick(gt_audio, loss_func, i)\n",
    "#     print(\"iter:{}, audio_loss: {}, reg_loss: {}\".format(i, audio_loss, reg_loss))\n",
    "\n",
    "#     total_loss = audio_loss + reg_loss\n",
    "#     optimizer.zero_grad()\n",
    "#     total_loss.backward()\n",
    "#     optimizer.step()\n",
    "\n",
    "verts, tets = DMTet.getMesh()\n",
    "\n",
    "viewer(verts.cpu().detach(), tets.cpu().detach(), draw_tet=True).show()\n"
   ]
  }
 ],
 "metadata": {
  "kernelspec": {
   "display_name": "xcx",
   "language": "python",
   "name": "python3"
  },
  "language_info": {
   "name": "python",
   "version": "3.8.13"
  },
  "orig_nbformat": 4
 },
 "nbformat": 4,
 "nbformat_minor": 2
}
